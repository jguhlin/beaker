{
 "cells": [
  {
   "cell_type": "code",
   "execution_count": 15,
   "id": "8a74cf0b-a06c-4376-87d7-d97e961baf30",
   "metadata": {},
   "outputs": [],
   "source": [
    "import tensorflow as tf\n",
    "import os\n",
    "import tensorflow_addons as tfa\n",
    "import numpy as np\n",
    "import time\n",
    "#import pyracular\n",
    "from biobeaker.utils import get_angles, positional_encoding\n",
    "from biobeaker import BEAKER\n",
    "from beaker_kmer_generator import KmerGenerator as kmer_generator\n",
    "from tensorflow.keras.layers import Dense, Embedding, Flatten, Lambda, Subtract, Input, Concatenate, AveragePooling1D, LocallyConnected1D, Conv1D, GaussianNoise, BatchNormalization, Reshape, GlobalAveragePooling1D, Dropout\n",
    "from tensorflow.keras.models import Model, Sequential\n",
    "import pandas as pd\n",
    "import plotly.express as px"
   ]
  },
  {
   "cell_type": "code",
   "execution_count": 16,
   "id": "f16f2065-8d36-462b-a198-9e28e0a2ff02",
   "metadata": {},
   "outputs": [],
   "source": [
    "# Hyper parameters\n",
    "k = 21\n",
    "window_size = 32\n",
    "num_layers = 8\n",
    "embedding_dims = 32\n",
    "output_dims = 128 # Output dims are also internal dims!\n",
    "intermediate_dims = 256\n",
    "num_heads = 8\n",
    "dropout_rate = 0.15\n",
    "max_positions = 512\n",
    "batch_size = 128"
   ]
  },
  {
   "cell_type": "code",
   "execution_count": 17,
   "id": "98b0c276-b3d3-4f63-a6c9-2429c3a2ce89",
   "metadata": {},
   "outputs": [
    {
     "name": "stdout",
     "output_type": "stream",
     "text": [
      "WARNING:tensorflow:Unresolved object in checkpoint: (root).encoder.dense1.kernel\n",
      "WARNING:tensorflow:Unresolved object in checkpoint: (root).encoder.dense1.bias\n",
      "WARNING:tensorflow:Unresolved object in checkpoint: (root).encoder.enc_layers.0.mha.query_kernel\n",
      "WARNING:tensorflow:Unresolved object in checkpoint: (root).encoder.enc_layers.0.mha.key_kernel\n",
      "WARNING:tensorflow:Unresolved object in checkpoint: (root).encoder.enc_layers.0.mha.value_kernel\n",
      "WARNING:tensorflow:Unresolved object in checkpoint: (root).encoder.enc_layers.0.mha.projection_kernel\n",
      "WARNING:tensorflow:Unresolved object in checkpoint: (root).encoder.enc_layers.0.mha.projection_bias\n",
      "WARNING:tensorflow:Unresolved object in checkpoint: (root).encoder.enc_layers.0.layernorm1.axis\n",
      "WARNING:tensorflow:Unresolved object in checkpoint: (root).encoder.enc_layers.0.layernorm1.gamma\n",
      "WARNING:tensorflow:Unresolved object in checkpoint: (root).encoder.enc_layers.0.layernorm1.beta\n",
      "WARNING:tensorflow:Unresolved object in checkpoint: (root).encoder.enc_layers.0.layernorm2.axis\n",
      "WARNING:tensorflow:Unresolved object in checkpoint: (root).encoder.enc_layers.0.layernorm2.gamma\n",
      "WARNING:tensorflow:Unresolved object in checkpoint: (root).encoder.enc_layers.0.layernorm2.beta\n",
      "WARNING:tensorflow:Unresolved object in checkpoint: (root).encoder.enc_layers.1.mha.query_kernel\n",
      "WARNING:tensorflow:Unresolved object in checkpoint: (root).encoder.enc_layers.1.mha.key_kernel\n",
      "WARNING:tensorflow:Unresolved object in checkpoint: (root).encoder.enc_layers.1.mha.value_kernel\n",
      "WARNING:tensorflow:Unresolved object in checkpoint: (root).encoder.enc_layers.1.mha.projection_kernel\n",
      "WARNING:tensorflow:Unresolved object in checkpoint: (root).encoder.enc_layers.1.mha.projection_bias\n",
      "WARNING:tensorflow:Unresolved object in checkpoint: (root).encoder.enc_layers.1.layernorm1.axis\n",
      "WARNING:tensorflow:Unresolved object in checkpoint: (root).encoder.enc_layers.1.layernorm1.gamma\n",
      "WARNING:tensorflow:Unresolved object in checkpoint: (root).encoder.enc_layers.1.layernorm1.beta\n",
      "WARNING:tensorflow:Unresolved object in checkpoint: (root).encoder.enc_layers.1.layernorm2.axis\n",
      "WARNING:tensorflow:Unresolved object in checkpoint: (root).encoder.enc_layers.1.layernorm2.gamma\n",
      "WARNING:tensorflow:Unresolved object in checkpoint: (root).encoder.enc_layers.1.layernorm2.beta\n",
      "WARNING:tensorflow:Unresolved object in checkpoint: (root).encoder.enc_layers.2.mha.query_kernel\n",
      "WARNING:tensorflow:Unresolved object in checkpoint: (root).encoder.enc_layers.2.mha.key_kernel\n",
      "WARNING:tensorflow:Unresolved object in checkpoint: (root).encoder.enc_layers.2.mha.value_kernel\n",
      "WARNING:tensorflow:Unresolved object in checkpoint: (root).encoder.enc_layers.2.mha.projection_kernel\n",
      "WARNING:tensorflow:Unresolved object in checkpoint: (root).encoder.enc_layers.2.mha.projection_bias\n",
      "WARNING:tensorflow:Unresolved object in checkpoint: (root).encoder.enc_layers.2.layernorm1.axis\n",
      "WARNING:tensorflow:Unresolved object in checkpoint: (root).encoder.enc_layers.2.layernorm1.gamma\n",
      "WARNING:tensorflow:Unresolved object in checkpoint: (root).encoder.enc_layers.2.layernorm1.beta\n",
      "WARNING:tensorflow:Unresolved object in checkpoint: (root).encoder.enc_layers.2.layernorm2.axis\n",
      "WARNING:tensorflow:Unresolved object in checkpoint: (root).encoder.enc_layers.2.layernorm2.gamma\n",
      "WARNING:tensorflow:Unresolved object in checkpoint: (root).encoder.enc_layers.2.layernorm2.beta\n",
      "WARNING:tensorflow:Unresolved object in checkpoint: (root).encoder.enc_layers.3.mha.query_kernel\n",
      "WARNING:tensorflow:Unresolved object in checkpoint: (root).encoder.enc_layers.3.mha.key_kernel\n",
      "WARNING:tensorflow:Unresolved object in checkpoint: (root).encoder.enc_layers.3.mha.value_kernel\n",
      "WARNING:tensorflow:Unresolved object in checkpoint: (root).encoder.enc_layers.3.mha.projection_kernel\n",
      "WARNING:tensorflow:Unresolved object in checkpoint: (root).encoder.enc_layers.3.mha.projection_bias\n",
      "WARNING:tensorflow:Unresolved object in checkpoint: (root).encoder.enc_layers.3.layernorm1.axis\n",
      "WARNING:tensorflow:Unresolved object in checkpoint: (root).encoder.enc_layers.3.layernorm1.gamma\n",
      "WARNING:tensorflow:Unresolved object in checkpoint: (root).encoder.enc_layers.3.layernorm1.beta\n",
      "WARNING:tensorflow:Unresolved object in checkpoint: (root).encoder.enc_layers.3.layernorm2.axis\n",
      "WARNING:tensorflow:Unresolved object in checkpoint: (root).encoder.enc_layers.3.layernorm2.gamma\n",
      "WARNING:tensorflow:Unresolved object in checkpoint: (root).encoder.enc_layers.3.layernorm2.beta\n",
      "WARNING:tensorflow:Unresolved object in checkpoint: (root).encoder.enc_layers.4.mha.query_kernel\n",
      "WARNING:tensorflow:Unresolved object in checkpoint: (root).encoder.enc_layers.4.mha.key_kernel\n",
      "WARNING:tensorflow:Unresolved object in checkpoint: (root).encoder.enc_layers.4.mha.value_kernel\n",
      "WARNING:tensorflow:Unresolved object in checkpoint: (root).encoder.enc_layers.4.mha.projection_kernel\n",
      "WARNING:tensorflow:Unresolved object in checkpoint: (root).encoder.enc_layers.4.mha.projection_bias\n",
      "WARNING:tensorflow:Unresolved object in checkpoint: (root).encoder.enc_layers.4.layernorm1.axis\n",
      "WARNING:tensorflow:Unresolved object in checkpoint: (root).encoder.enc_layers.4.layernorm1.gamma\n",
      "WARNING:tensorflow:Unresolved object in checkpoint: (root).encoder.enc_layers.4.layernorm1.beta\n",
      "WARNING:tensorflow:Unresolved object in checkpoint: (root).encoder.enc_layers.4.layernorm2.axis\n",
      "WARNING:tensorflow:Unresolved object in checkpoint: (root).encoder.enc_layers.4.layernorm2.gamma\n",
      "WARNING:tensorflow:Unresolved object in checkpoint: (root).encoder.enc_layers.4.layernorm2.beta\n",
      "WARNING:tensorflow:Unresolved object in checkpoint: (root).encoder.enc_layers.5.mha.query_kernel\n",
      "WARNING:tensorflow:Unresolved object in checkpoint: (root).encoder.enc_layers.5.mha.key_kernel\n",
      "WARNING:tensorflow:Unresolved object in checkpoint: (root).encoder.enc_layers.5.mha.value_kernel\n",
      "WARNING:tensorflow:Unresolved object in checkpoint: (root).encoder.enc_layers.5.mha.projection_kernel\n",
      "WARNING:tensorflow:Unresolved object in checkpoint: (root).encoder.enc_layers.5.mha.projection_bias\n",
      "WARNING:tensorflow:Unresolved object in checkpoint: (root).encoder.enc_layers.5.layernorm1.axis\n",
      "WARNING:tensorflow:Unresolved object in checkpoint: (root).encoder.enc_layers.5.layernorm1.gamma\n",
      "WARNING:tensorflow:Unresolved object in checkpoint: (root).encoder.enc_layers.5.layernorm1.beta\n",
      "WARNING:tensorflow:Unresolved object in checkpoint: (root).encoder.enc_layers.5.layernorm2.axis\n",
      "WARNING:tensorflow:Unresolved object in checkpoint: (root).encoder.enc_layers.5.layernorm2.gamma\n",
      "WARNING:tensorflow:Unresolved object in checkpoint: (root).encoder.enc_layers.5.layernorm2.beta\n",
      "WARNING:tensorflow:Unresolved object in checkpoint: (root).encoder.enc_layers.6.mha.query_kernel\n",
      "WARNING:tensorflow:Unresolved object in checkpoint: (root).encoder.enc_layers.6.mha.key_kernel\n",
      "WARNING:tensorflow:Unresolved object in checkpoint: (root).encoder.enc_layers.6.mha.value_kernel\n",
      "WARNING:tensorflow:Unresolved object in checkpoint: (root).encoder.enc_layers.6.mha.projection_kernel\n",
      "WARNING:tensorflow:Unresolved object in checkpoint: (root).encoder.enc_layers.6.mha.projection_bias\n",
      "WARNING:tensorflow:Unresolved object in checkpoint: (root).encoder.enc_layers.6.layernorm1.axis\n",
      "WARNING:tensorflow:Unresolved object in checkpoint: (root).encoder.enc_layers.6.layernorm1.gamma\n",
      "WARNING:tensorflow:Unresolved object in checkpoint: (root).encoder.enc_layers.6.layernorm1.beta\n",
      "WARNING:tensorflow:Unresolved object in checkpoint: (root).encoder.enc_layers.6.layernorm2.axis\n",
      "WARNING:tensorflow:Unresolved object in checkpoint: (root).encoder.enc_layers.6.layernorm2.gamma\n",
      "WARNING:tensorflow:Unresolved object in checkpoint: (root).encoder.enc_layers.6.layernorm2.beta\n",
      "WARNING:tensorflow:Unresolved object in checkpoint: (root).encoder.enc_layers.7.mha.query_kernel\n",
      "WARNING:tensorflow:Unresolved object in checkpoint: (root).encoder.enc_layers.7.mha.key_kernel\n",
      "WARNING:tensorflow:Unresolved object in checkpoint: (root).encoder.enc_layers.7.mha.value_kernel\n",
      "WARNING:tensorflow:Unresolved object in checkpoint: (root).encoder.enc_layers.7.mha.projection_kernel\n",
      "WARNING:tensorflow:Unresolved object in checkpoint: (root).encoder.enc_layers.7.mha.projection_bias\n",
      "WARNING:tensorflow:Unresolved object in checkpoint: (root).encoder.enc_layers.7.layernorm1.axis\n",
      "WARNING:tensorflow:Unresolved object in checkpoint: (root).encoder.enc_layers.7.layernorm1.gamma\n",
      "WARNING:tensorflow:Unresolved object in checkpoint: (root).encoder.enc_layers.7.layernorm1.beta\n",
      "WARNING:tensorflow:Unresolved object in checkpoint: (root).encoder.enc_layers.7.layernorm2.axis\n",
      "WARNING:tensorflow:Unresolved object in checkpoint: (root).encoder.enc_layers.7.layernorm2.gamma\n",
      "WARNING:tensorflow:Unresolved object in checkpoint: (root).encoder.enc_layers.7.layernorm2.beta\n",
      "WARNING:tensorflow:Unresolved object in checkpoint: (root).encoder.enc_layers.0.ffn.layer_with_weights-0._inbound_nodes\n",
      "WARNING:tensorflow:Unresolved object in checkpoint: (root).encoder.enc_layers.0.ffn.layer_with_weights-0.kernel\n",
      "WARNING:tensorflow:Unresolved object in checkpoint: (root).encoder.enc_layers.0.ffn.layer_with_weights-0.bias\n",
      "WARNING:tensorflow:Unresolved object in checkpoint: (root).encoder.enc_layers.0.ffn.layer_with_weights-1._inbound_nodes\n",
      "WARNING:tensorflow:Unresolved object in checkpoint: (root).encoder.enc_layers.0.ffn.layer_with_weights-1.kernel\n",
      "WARNING:tensorflow:Unresolved object in checkpoint: (root).encoder.enc_layers.0.ffn.layer_with_weights-1.bias\n",
      "WARNING:tensorflow:Unresolved object in checkpoint: (root).encoder.enc_layers.1.ffn.layer_with_weights-0._inbound_nodes\n",
      "WARNING:tensorflow:Unresolved object in checkpoint: (root).encoder.enc_layers.1.ffn.layer_with_weights-0.kernel\n",
      "WARNING:tensorflow:Unresolved object in checkpoint: (root).encoder.enc_layers.1.ffn.layer_with_weights-0.bias\n",
      "WARNING:tensorflow:Unresolved object in checkpoint: (root).encoder.enc_layers.1.ffn.layer_with_weights-1._inbound_nodes\n",
      "WARNING:tensorflow:Unresolved object in checkpoint: (root).encoder.enc_layers.1.ffn.layer_with_weights-1.kernel\n",
      "WARNING:tensorflow:Unresolved object in checkpoint: (root).encoder.enc_layers.1.ffn.layer_with_weights-1.bias\n",
      "WARNING:tensorflow:Unresolved object in checkpoint: (root).encoder.enc_layers.2.ffn.layer_with_weights-0._inbound_nodes\n",
      "WARNING:tensorflow:Unresolved object in checkpoint: (root).encoder.enc_layers.2.ffn.layer_with_weights-0.kernel\n",
      "WARNING:tensorflow:Unresolved object in checkpoint: (root).encoder.enc_layers.2.ffn.layer_with_weights-0.bias\n",
      "WARNING:tensorflow:Unresolved object in checkpoint: (root).encoder.enc_layers.2.ffn.layer_with_weights-1._inbound_nodes\n",
      "WARNING:tensorflow:Unresolved object in checkpoint: (root).encoder.enc_layers.2.ffn.layer_with_weights-1.kernel\n",
      "WARNING:tensorflow:Unresolved object in checkpoint: (root).encoder.enc_layers.2.ffn.layer_with_weights-1.bias\n",
      "WARNING:tensorflow:Unresolved object in checkpoint: (root).encoder.enc_layers.3.ffn.layer_with_weights-0._inbound_nodes\n",
      "WARNING:tensorflow:Unresolved object in checkpoint: (root).encoder.enc_layers.3.ffn.layer_with_weights-0.kernel\n",
      "WARNING:tensorflow:Unresolved object in checkpoint: (root).encoder.enc_layers.3.ffn.layer_with_weights-0.bias\n",
      "WARNING:tensorflow:Unresolved object in checkpoint: (root).encoder.enc_layers.3.ffn.layer_with_weights-1._inbound_nodes\n",
      "WARNING:tensorflow:Unresolved object in checkpoint: (root).encoder.enc_layers.3.ffn.layer_with_weights-1.kernel\n",
      "WARNING:tensorflow:Unresolved object in checkpoint: (root).encoder.enc_layers.3.ffn.layer_with_weights-1.bias\n",
      "WARNING:tensorflow:Unresolved object in checkpoint: (root).encoder.enc_layers.4.ffn.layer_with_weights-0._inbound_nodes\n",
      "WARNING:tensorflow:Unresolved object in checkpoint: (root).encoder.enc_layers.4.ffn.layer_with_weights-0.kernel\n",
      "WARNING:tensorflow:Unresolved object in checkpoint: (root).encoder.enc_layers.4.ffn.layer_with_weights-0.bias\n",
      "WARNING:tensorflow:Unresolved object in checkpoint: (root).encoder.enc_layers.4.ffn.layer_with_weights-1._inbound_nodes\n",
      "WARNING:tensorflow:Unresolved object in checkpoint: (root).encoder.enc_layers.4.ffn.layer_with_weights-1.kernel\n",
      "WARNING:tensorflow:Unresolved object in checkpoint: (root).encoder.enc_layers.4.ffn.layer_with_weights-1.bias\n",
      "WARNING:tensorflow:Unresolved object in checkpoint: (root).encoder.enc_layers.5.ffn.layer_with_weights-0._inbound_nodes\n",
      "WARNING:tensorflow:Unresolved object in checkpoint: (root).encoder.enc_layers.5.ffn.layer_with_weights-0.kernel\n",
      "WARNING:tensorflow:Unresolved object in checkpoint: (root).encoder.enc_layers.5.ffn.layer_with_weights-0.bias\n",
      "WARNING:tensorflow:Unresolved object in checkpoint: (root).encoder.enc_layers.5.ffn.layer_with_weights-1._inbound_nodes\n",
      "WARNING:tensorflow:Unresolved object in checkpoint: (root).encoder.enc_layers.5.ffn.layer_with_weights-1.kernel\n",
      "WARNING:tensorflow:Unresolved object in checkpoint: (root).encoder.enc_layers.5.ffn.layer_with_weights-1.bias\n",
      "WARNING:tensorflow:Unresolved object in checkpoint: (root).encoder.enc_layers.6.ffn.layer_with_weights-0._inbound_nodes\n",
      "WARNING:tensorflow:Unresolved object in checkpoint: (root).encoder.enc_layers.6.ffn.layer_with_weights-0.kernel\n",
      "WARNING:tensorflow:Unresolved object in checkpoint: (root).encoder.enc_layers.6.ffn.layer_with_weights-0.bias\n",
      "WARNING:tensorflow:Unresolved object in checkpoint: (root).encoder.enc_layers.6.ffn.layer_with_weights-1._inbound_nodes\n",
      "WARNING:tensorflow:Unresolved object in checkpoint: (root).encoder.enc_layers.6.ffn.layer_with_weights-1.kernel\n",
      "WARNING:tensorflow:Unresolved object in checkpoint: (root).encoder.enc_layers.6.ffn.layer_with_weights-1.bias\n",
      "WARNING:tensorflow:Unresolved object in checkpoint: (root).encoder.enc_layers.7.ffn.layer_with_weights-0._inbound_nodes\n",
      "WARNING:tensorflow:Unresolved object in checkpoint: (root).encoder.enc_layers.7.ffn.layer_with_weights-0.kernel\n",
      "WARNING:tensorflow:Unresolved object in checkpoint: (root).encoder.enc_layers.7.ffn.layer_with_weights-0.bias\n",
      "WARNING:tensorflow:Unresolved object in checkpoint: (root).encoder.enc_layers.7.ffn.layer_with_weights-1._inbound_nodes\n",
      "WARNING:tensorflow:Unresolved object in checkpoint: (root).encoder.enc_layers.7.ffn.layer_with_weights-1.kernel\n",
      "WARNING:tensorflow:Unresolved object in checkpoint: (root).encoder.enc_layers.7.ffn.layer_with_weights-1.bias\n",
      "WARNING:tensorflow:A checkpoint was restored (e.g. tf.train.Checkpoint.restore or tf.keras.Model.load_weights) but not all checkpointed values were used. See above for specific issues. Use expect_partial() on the load status object, e.g. tf.train.Checkpoint.restore(...).expect_partial(), to silence these warnings, or use assert_consumed() to make the check explicit. See https://www.tensorflow.org/guide/checkpoint#loading_mechanics for details.\n"
     ]
    }
   ],
   "source": [
    "transformer = BEAKER(num_layers, embedding_dims, output_dims, num_heads, intermediate_dims, max_positions,\n",
    "                          dropout=dropout_rate, attention_dropout=dropout_rate, activation=tfa.activations.mish)\n",
    "\n",
    "# Magic embeddings \n",
    "# \n",
    "# Kmer -> DNA Embedding\n",
    "# Where kmer1 (k1) and kmer2 (k2)\n",
    "# manhattan_distance(k1, k2) =~ alignment_distance(k1, k2)\n",
    "\n",
    "magic = Dense(embedding_dims, \n",
    "                activation=tf.nn.swish, \n",
    "                name=\"Magic\", \n",
    "                use_bias=False, \n",
    "                trainable=False,\n",
    "                dtype=tf.float32)\n",
    "\n",
    "magic.build((window_size+1,k*5))\n",
    "\n",
    "#Load up the weights\n",
    "weights = np.load(\"../../precomputed/weights_wide_singlelayer_k21_3Aug2020model_21_dims_32_epochs256.npy\", allow_pickle=True)\n",
    "magic.set_weights([weights[0][0]])\n",
    "\n",
    "transformer.load_weights(\"../../precomputed/beaker_medium_tripleloss\")\n",
    "\n",
    "cls = np.asarray([[1] * 105])"
   ]
  },
  {
   "cell_type": "code",
   "execution_count": 13,
   "id": "f183ee89-6ab0-49b3-baff-2734dc0e145c",
   "metadata": {},
   "outputs": [
    {
     "ename": "NameError",
     "evalue": "name 'pyracular' is not defined",
     "output_type": "error",
     "traceback": [
      "\u001b[0;31m---------------------------------------------------------------------------\u001b[0m",
      "\u001b[0;31mNameError\u001b[0m                                 Traceback (most recent call last)",
      "Input \u001b[0;32mIn [13]\u001b[0m, in \u001b[0;36m<cell line: 1>\u001b[0;34m()\u001b[0m\n\u001b[0;32m----> 1\u001b[0m kmerwindowsgen \u001b[38;5;241m=\u001b[39m \u001b[43mpyracular\u001b[49m\u001b[38;5;241m.\u001b[39mFastaKmersGenerator(k, \u001b[38;5;124m\"\u001b[39m\u001b[38;5;124m../../example/Arabidopsis_chr1.sfasta\u001b[39m\u001b[38;5;124m\"\u001b[39m, window_size, \u001b[38;5;28;01mFalse\u001b[39;00m, \u001b[38;5;28;01mFalse\u001b[39;00m, \u001b[38;5;28;01mFalse\u001b[39;00m)\n\u001b[1;32m      2\u001b[0m first \u001b[38;5;241m=\u001b[39m \u001b[38;5;28mnext\u001b[39m(kmerwindowsgen)\n",
      "\u001b[0;31mNameError\u001b[0m: name 'pyracular' is not defined"
     ]
    }
   ],
   "source": [
    "kmerwindowsgen = pyracular.FastaKmersGenerator(k, \"../../example/Arabidopsis_chr1.sfasta\", window_size, False, False, False)\n",
    "first = next(kmerwindowsgen)"
   ]
  },
  {
   "cell_type": "code",
   "execution_count": 35,
   "id": "3533a3c3-6ccb-4529-93e3-6ff736a9b86b",
   "metadata": {},
   "outputs": [
    {
     "data": {
      "text/plain": [
       "array([0, 0, 0, 1, 0, 0, 0, 0, 1, 0, 0, 0, 0, 1, 0, 0, 1, 0, 0, 0, 1, 0,\n",
       "       0, 0, 0, 1, 0, 0, 0, 0, 1, 0, 0, 0, 0, 0, 0, 0, 1, 0, 0, 0, 0, 1,\n",
       "       0, 0, 0, 0, 1, 0, 0, 1, 0, 0, 0, 1, 0, 0, 0, 0, 1, 0, 0, 0, 0, 1,\n",
       "       0, 0, 0, 0, 0, 0, 0, 1, 0, 0, 0, 0, 1, 0, 0, 0, 0, 1, 0, 0, 1, 0,\n",
       "       0, 0, 1, 0, 0, 0, 0, 1, 0, 0, 0, 0, 1, 0, 0, 0, 0])"
      ]
     },
     "execution_count": 35,
     "metadata": {},
     "output_type": "execute_result"
    }
   ],
   "source": [
    "np.asarray(first[0][0], dtype=int)"
   ]
  },
  {
   "cell_type": "code",
   "execution_count": 36,
   "id": "f14312f1-9049-4412-9f1e-5e1b8c3bbe28",
   "metadata": {},
   "outputs": [],
   "source": [
    "# With a few functions, we can convert back to string representation\n",
    "def convert_all_kmers(kmers):\n",
    "    kmers_as_str = list()\n",
    "    for x in kmers:\n",
    "        y = \"\".join(list(map(convert_letter_to_string, np.array_split(x, k))))\n",
    "        kmers_as_str.append(y)\n",
    "    return kmers_as_str\n",
    "\n",
    "def convert_letter_to_string(x):\n",
    "    y = np.nonzero(x)[0][0]\n",
    "    if y == 0:\n",
    "        return \"A\"\n",
    "    elif y == 1:\n",
    "        return \"T\"\n",
    "    elif y == 2:\n",
    "        return \"N\"\n",
    "    elif y == 3:\n",
    "        return \"C\"\n",
    "    elif y == 4:\n",
    "        return \"G\""
   ]
  },
  {
   "cell_type": "code",
   "execution_count": 37,
   "id": "83ae8aef-af6e-4c35-b887-9fa34b3a9e64",
   "metadata": {},
   "outputs": [
    {
     "data": {
      "text/plain": [
       "['CCCTAAACCCTAAACCCTAAA',\n",
       " 'CCCTAAACCTCTGAATCCTTA',\n",
       " 'ATCCCTAAATCCCTAAATCTT',\n",
       " 'TAAATCCTACATCCATGAATC',\n",
       " 'CCTAAATACCTAATTCCCTAA',\n",
       " 'ACCCGAAACCGGTTTCTCTGG',\n",
       " 'TTGAAAATCATTGTGTATATA',\n",
       " 'ATGATAATTTTATCGTTTTTA',\n",
       " 'TGTAATTGCTTATTGTTGTGT',\n",
       " 'GTAGATTTTTTAAAAATATCA',\n",
       " 'TTTGAGGTCAATACAAATCCT',\n",
       " 'ATTTCTTGTGGTTTTCTTTCC',\n",
       " 'TTCACTTAGCTATGGATGGTT',\n",
       " 'TATCTTCATTTGTTATATTGG',\n",
       " 'ATACAAGCTTTGCTACGATCT',\n",
       " 'ACATTTGGGAATGTGAGTCTC',\n",
       " 'TTATTGTAACCTTAGGGTTGG',\n",
       " 'TTTATCTCAAGAATCTTATTA',\n",
       " 'ATTGTTTGGACTGTTTATGTT',\n",
       " 'TGGACATTTATTGTCATTCTT',\n",
       " 'ACTCCTTTGTGGAAATGTTTG',\n",
       " 'TTCTATCAATTTATCTTTTGT',\n",
       " 'GGGAAAATTATTTAGTTGTAG',\n",
       " 'GGATGAAGTCTTTCTTCGTTG',\n",
       " 'TTGTTACGCTTGTCATCTCAT',\n",
       " 'CTCTCAATGATATGGGATGGT',\n",
       " 'CCTTTAGCATTTATTCTGAAG',\n",
       " 'TTCTTCTGCTTGATGATTTTA',\n",
       " 'TCCTTAGCCAAAAGGATTGGT',\n",
       " 'GGTTTGAAGACACATCATATC',\n",
       " 'AAAAAAGCTATCGCCTCGACG',\n",
       " 'ATGCTCTATTTCTATCCTTGT']"
      ]
     },
     "execution_count": 37,
     "metadata": {},
     "output_type": "execute_result"
    }
   ],
   "source": [
    "convert_all_kmers(first[0])"
   ]
  },
  {
   "cell_type": "code",
   "execution_count": 39,
   "id": "424a35d3-536d-4115-ac9b-d7bd1eccf7cc",
   "metadata": {},
   "outputs": [
    {
     "data": {
      "text/plain": [
       "(32, 105)"
      ]
     },
     "execution_count": 39,
     "metadata": {},
     "output_type": "execute_result"
    }
   ],
   "source": [
    "kmers = np.asarray(first[0], dtype=int)\n",
    "kmers.shape"
   ]
  },
  {
   "cell_type": "code",
   "execution_count": 55,
   "id": "8de93a9d-025b-4d00-9d33-4e6a25c6a465",
   "metadata": {},
   "outputs": [],
   "source": [
    "kmers_modified = kmers.copy()\n",
    "#kmers_modified[0][1] = 1\n",
    "#kmers_modified[0][3] = 0\n",
    "#kmers_modified[0][9] = 1\n",
    "#kmers_modified[0][8] = 0\n",
    "kmers_modified[0][13] = 0\n",
    "kmers_modified[0][12] = 1\n",
    "\n",
    "#magic(kmers)"
   ]
  },
  {
   "cell_type": "code",
   "execution_count": 56,
   "id": "57a49d6c-5b6f-48e4-bb92-ffcacaeeec82",
   "metadata": {},
   "outputs": [
    {
     "data": {
      "text/plain": [
       "array([0, 0, 0, 1, 0, 0, 0, 0, 1, 0, 0, 0, 0, 1, 0, 0, 1, 0, 0, 0, 1, 0,\n",
       "       0, 0, 0, 1, 0, 0, 0, 0, 1, 0, 0, 0, 0, 0, 0, 0, 1, 0, 0, 0, 0, 1,\n",
       "       0, 0, 0, 0, 1, 0, 0, 1, 0, 0, 0, 1, 0, 0, 0, 0, 1, 0, 0, 0, 0, 1,\n",
       "       0, 0, 0, 0, 0, 0, 0, 1, 0, 0, 0, 0, 1, 0, 0, 0, 0, 1, 0, 0, 1, 0,\n",
       "       0, 0, 1, 0, 0, 0, 0, 1, 0, 0, 0, 0, 1, 0, 0, 0, 0])"
      ]
     },
     "execution_count": 56,
     "metadata": {},
     "output_type": "execute_result"
    }
   ],
   "source": [
    "kmers[0]"
   ]
  },
  {
   "cell_type": "code",
   "execution_count": 57,
   "id": "41ab9798-8915-4c05-8e95-0a2cb8ab7f16",
   "metadata": {},
   "outputs": [
    {
     "data": {
      "text/plain": [
       "0.75135255"
      ]
     },
     "execution_count": 57,
     "metadata": {},
     "output_type": "execute_result"
    }
   ],
   "source": [
    "np.sum(magic(kmers) - magic(kmers_modified))"
   ]
  },
  {
   "cell_type": "code",
   "execution_count": null,
   "id": "bfc81060-263d-488e-ade5-69045452441a",
   "metadata": {},
   "outputs": [],
   "source": []
  },
  {
   "cell_type": "code",
   "execution_count": null,
   "id": "ec41e95e-27a8-4bce-a5ad-d9e71ccf10ae",
   "metadata": {},
   "outputs": [],
   "source": []
  }
 ],
 "metadata": {
  "kernelspec": {
   "display_name": "Python 3",
   "language": "python",
   "name": "python3"
  },
  "language_info": {
   "codemirror_mode": {
    "name": "ipython",
    "version": 3
   },
   "file_extension": ".py",
   "mimetype": "text/x-python",
   "name": "python",
   "nbconvert_exporter": "python",
   "pygments_lexer": "ipython3",
   "version": "3.8.13"
  }
 },
 "nbformat": 4,
 "nbformat_minor": 5
}
