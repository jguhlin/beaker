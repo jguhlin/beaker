{
 "cells": [
  {
   "cell_type": "code",
   "execution_count": 10,
   "id": "8a74cf0b-a06c-4376-87d7-d97e961baf30",
   "metadata": {},
   "outputs": [],
   "source": [
    "import tensorflow as tf\n",
    "import os\n",
    "import tensorflow_addons as tfa\n",
    "import numpy as np\n",
    "import time\n",
    "#import pyracular\n",
    "from biobeaker.utils import get_angles, positional_encoding\n",
    "from biobeaker import BEAKER\n",
    "from tensorflow.keras.layers import Dense, Embedding, Flatten, Lambda, Subtract, Input, Concatenate, AveragePooling1D, LocallyConnected1D, Conv1D, GaussianNoise, BatchNormalization, Reshape, GlobalAveragePooling1D, Dropout\n",
    "from tensorflow.keras.models import Model, Sequential\n",
    "import pandas as pd\n",
    "#import umap\n",
    "import plotly.express as px\n",
    "#import phate"
   ]
  },
  {
   "cell_type": "code",
   "execution_count": 11,
   "id": "f16f2065-8d36-462b-a198-9e28e0a2ff02",
   "metadata": {},
   "outputs": [],
   "source": [
    "# Hyper parameters\n",
    "k = 21\n",
    "window_size = 32\n",
    "num_layers = 8\n",
    "embedding_dims = 32\n",
    "output_dims = 128 # Output dims are also internal dims!\n",
    "intermediate_dims = 256\n",
    "num_heads = 8\n",
    "dropout_rate = 0.15\n",
    "max_positions = 512\n",
    "batch_size = 128"
   ]
  },
  {
   "cell_type": "code",
   "execution_count": 12,
   "id": "98b0c276-b3d3-4f63-a6c9-2429c3a2ce89",
   "metadata": {},
   "outputs": [
    {
     "name": "stderr",
     "output_type": "stream",
     "text": [
      "2022-06-21 11:29:13.523362: I tensorflow/compiler/jit/xla_cpu_device.cc:41] Not creating XLA devices, tf_xla_enable_xla_devices not set\n",
      "2022-06-21 11:29:13.526277: I tensorflow/stream_executor/platform/default/dso_loader.cc:49] Successfully opened dynamic library libcuda.so.1\n",
      "2022-06-21 11:29:13.556105: I tensorflow/core/common_runtime/gpu/gpu_device.cc:1720] Found device 0 with properties: \n",
      "pciBusID: 0000:42:00.0 name: NVIDIA GeForce GTX 1070 Ti computeCapability: 6.1\n",
      "coreClock: 1.683GHz coreCount: 19 deviceMemorySize: 7.93GiB deviceMemoryBandwidth: 238.66GiB/s\n",
      "2022-06-21 11:29:13.556231: I tensorflow/stream_executor/platform/default/dso_loader.cc:49] Successfully opened dynamic library libcudart.so.11.0\n",
      "2022-06-21 11:29:13.566672: I tensorflow/stream_executor/platform/default/dso_loader.cc:49] Successfully opened dynamic library libcublas.so.11\n",
      "2022-06-21 11:29:13.567069: I tensorflow/stream_executor/platform/default/dso_loader.cc:49] Successfully opened dynamic library libcublasLt.so.11\n",
      "2022-06-21 11:29:13.571869: I tensorflow/stream_executor/platform/default/dso_loader.cc:49] Successfully opened dynamic library libcufft.so.10\n",
      "2022-06-21 11:29:13.572947: I tensorflow/stream_executor/platform/default/dso_loader.cc:49] Successfully opened dynamic library libcurand.so.10\n",
      "2022-06-21 11:29:13.573438: W tensorflow/stream_executor/platform/default/dso_loader.cc:60] Could not load dynamic library 'libcusolver.so.10'; dlerror: libcusolver.so.10: cannot open shared object file: No such file or directory; LD_LIBRARY_PATH: /usr/lib/gcc/x86_64-linux-gnu/10:/usr/local/cuda-11.4/lib64\n",
      "2022-06-21 11:29:13.575420: I tensorflow/stream_executor/platform/default/dso_loader.cc:49] Successfully opened dynamic library libcusparse.so.11\n",
      "2022-06-21 11:29:13.576609: I tensorflow/stream_executor/platform/default/dso_loader.cc:49] Successfully opened dynamic library libcudnn.so.8\n",
      "2022-06-21 11:29:13.576683: W tensorflow/core/common_runtime/gpu/gpu_device.cc:1757] Cannot dlopen some GPU libraries. Please make sure the missing libraries mentioned above are installed properly if you would like to use GPU. Follow the guide at https://www.tensorflow.org/install/gpu for how to download and setup the required libraries for your platform.\n",
      "Skipping registering GPU devices...\n",
      "2022-06-21 11:29:13.577758: I tensorflow/core/platform/cpu_feature_guard.cc:142] This TensorFlow binary is optimized with oneAPI Deep Neural Network Library (oneDNN) to use the following CPU instructions in performance-critical operations:  AVX2 FMA\n",
      "To enable them in other operations, rebuild TensorFlow with the appropriate compiler flags.\n",
      "2022-06-21 11:29:13.585189: I tensorflow/compiler/jit/xla_gpu_device.cc:99] Not creating XLA devices, tf_xla_enable_xla_devices not set\n",
      "2022-06-21 11:29:13.585330: I tensorflow/core/common_runtime/gpu/gpu_device.cc:1261] Device interconnect StreamExecutor with strength 1 edge matrix:\n",
      "2022-06-21 11:29:13.585343: I tensorflow/core/common_runtime/gpu/gpu_device.cc:1267]      \n"
     ]
    }
   ],
   "source": [
    "transformer = BEAKER(num_layers, embedding_dims, output_dims, num_heads, intermediate_dims, max_positions,\n",
    "                          dropout=dropout_rate, attention_dropout=dropout_rate, activation=tfa.activations.mish)\n",
    "\n",
    "# Magic embeddings \n",
    "# \n",
    "# Kmer -> DNA Embedding\n",
    "# Where kmer1 (k1) and kmer2 (k2)\n",
    "# manhattan_distance(k1, k2) =~ alignment_distance(k1, k2)\n",
    "\n",
    "magic = Dense(embedding_dims, \n",
    "                activation=tf.nn.swish, \n",
    "                name=\"Magic\", \n",
    "                use_bias=False, \n",
    "                trainable=False,\n",
    "                dtype=tf.float32)\n",
    "\n",
    "magic.build((window_size+1,k*5))\n",
    "\n",
    "#Load up the weights\n",
    "weights = np.load(\"../../precomputed/weights_wide_singlelayer_k21_3Aug2020model_21_dims_32_epochs256.npy\", allow_pickle=True)\n",
    "magic.set_weights([weights[0][0]])\n",
    "\n",
    "transformer.load_weights(\"../../precomputed/beaker_medium_tripleloss\")\n",
    "\n",
    "cls = np.asarray([[1] * 105])"
   ]
  },
  {
   "cell_type": "code",
   "execution_count": 13,
   "id": "f183ee89-6ab0-49b3-baff-2734dc0e145c",
   "metadata": {},
   "outputs": [
    {
     "ename": "NameError",
     "evalue": "name 'pyracular' is not defined",
     "output_type": "error",
     "traceback": [
      "\u001b[0;31m---------------------------------------------------------------------------\u001b[0m",
      "\u001b[0;31mNameError\u001b[0m                                 Traceback (most recent call last)",
      "Input \u001b[0;32mIn [13]\u001b[0m, in \u001b[0;36m<cell line: 1>\u001b[0;34m()\u001b[0m\n\u001b[0;32m----> 1\u001b[0m kmerwindowsgen \u001b[38;5;241m=\u001b[39m \u001b[43mpyracular\u001b[49m\u001b[38;5;241m.\u001b[39mFastaKmersGenerator(k, \u001b[38;5;124m\"\u001b[39m\u001b[38;5;124m../../example/Arabidopsis_chr1.sfasta\u001b[39m\u001b[38;5;124m\"\u001b[39m, window_size, \u001b[38;5;28;01mFalse\u001b[39;00m, \u001b[38;5;28;01mFalse\u001b[39;00m, \u001b[38;5;28;01mFalse\u001b[39;00m)\n\u001b[1;32m      2\u001b[0m first \u001b[38;5;241m=\u001b[39m \u001b[38;5;28mnext\u001b[39m(kmerwindowsgen)\n",
      "\u001b[0;31mNameError\u001b[0m: name 'pyracular' is not defined"
     ]
    }
   ],
   "source": [
    "kmerwindowsgen = pyracular.FastaKmersGenerator(k, \"../../example/Arabidopsis_chr1.sfasta\", window_size, False, False, False)\n",
    "first = next(kmerwindowsgen)"
   ]
  },
  {
   "cell_type": "code",
   "execution_count": 35,
   "id": "3533a3c3-6ccb-4529-93e3-6ff736a9b86b",
   "metadata": {},
   "outputs": [
    {
     "data": {
      "text/plain": [
       "array([0, 0, 0, 1, 0, 0, 0, 0, 1, 0, 0, 0, 0, 1, 0, 0, 1, 0, 0, 0, 1, 0,\n",
       "       0, 0, 0, 1, 0, 0, 0, 0, 1, 0, 0, 0, 0, 0, 0, 0, 1, 0, 0, 0, 0, 1,\n",
       "       0, 0, 0, 0, 1, 0, 0, 1, 0, 0, 0, 1, 0, 0, 0, 0, 1, 0, 0, 0, 0, 1,\n",
       "       0, 0, 0, 0, 0, 0, 0, 1, 0, 0, 0, 0, 1, 0, 0, 0, 0, 1, 0, 0, 1, 0,\n",
       "       0, 0, 1, 0, 0, 0, 0, 1, 0, 0, 0, 0, 1, 0, 0, 0, 0])"
      ]
     },
     "execution_count": 35,
     "metadata": {},
     "output_type": "execute_result"
    }
   ],
   "source": [
    "np.asarray(first[0][0], dtype=int)"
   ]
  },
  {
   "cell_type": "code",
   "execution_count": 36,
   "id": "f14312f1-9049-4412-9f1e-5e1b8c3bbe28",
   "metadata": {},
   "outputs": [],
   "source": [
    "# With a few functions, we can convert back to string representation\n",
    "def convert_all_kmers(kmers):\n",
    "    kmers_as_str = list()\n",
    "    for x in kmers:\n",
    "        y = \"\".join(list(map(convert_letter_to_string, np.array_split(x, k))))\n",
    "        kmers_as_str.append(y)\n",
    "    return kmers_as_str\n",
    "\n",
    "def convert_letter_to_string(x):\n",
    "    y = np.nonzero(x)[0][0]\n",
    "    if y == 0:\n",
    "        return \"A\"\n",
    "    elif y == 1:\n",
    "        return \"T\"\n",
    "    elif y == 2:\n",
    "        return \"N\"\n",
    "    elif y == 3:\n",
    "        return \"C\"\n",
    "    elif y == 4:\n",
    "        return \"G\""
   ]
  },
  {
   "cell_type": "code",
   "execution_count": 37,
   "id": "83ae8aef-af6e-4c35-b887-9fa34b3a9e64",
   "metadata": {},
   "outputs": [
    {
     "data": {
      "text/plain": [
       "['CCCTAAACCCTAAACCCTAAA',\n",
       " 'CCCTAAACCTCTGAATCCTTA',\n",
       " 'ATCCCTAAATCCCTAAATCTT',\n",
       " 'TAAATCCTACATCCATGAATC',\n",
       " 'CCTAAATACCTAATTCCCTAA',\n",
       " 'ACCCGAAACCGGTTTCTCTGG',\n",
       " 'TTGAAAATCATTGTGTATATA',\n",
       " 'ATGATAATTTTATCGTTTTTA',\n",
       " 'TGTAATTGCTTATTGTTGTGT',\n",
       " 'GTAGATTTTTTAAAAATATCA',\n",
       " 'TTTGAGGTCAATACAAATCCT',\n",
       " 'ATTTCTTGTGGTTTTCTTTCC',\n",
       " 'TTCACTTAGCTATGGATGGTT',\n",
       " 'TATCTTCATTTGTTATATTGG',\n",
       " 'ATACAAGCTTTGCTACGATCT',\n",
       " 'ACATTTGGGAATGTGAGTCTC',\n",
       " 'TTATTGTAACCTTAGGGTTGG',\n",
       " 'TTTATCTCAAGAATCTTATTA',\n",
       " 'ATTGTTTGGACTGTTTATGTT',\n",
       " 'TGGACATTTATTGTCATTCTT',\n",
       " 'ACTCCTTTGTGGAAATGTTTG',\n",
       " 'TTCTATCAATTTATCTTTTGT',\n",
       " 'GGGAAAATTATTTAGTTGTAG',\n",
       " 'GGATGAAGTCTTTCTTCGTTG',\n",
       " 'TTGTTACGCTTGTCATCTCAT',\n",
       " 'CTCTCAATGATATGGGATGGT',\n",
       " 'CCTTTAGCATTTATTCTGAAG',\n",
       " 'TTCTTCTGCTTGATGATTTTA',\n",
       " 'TCCTTAGCCAAAAGGATTGGT',\n",
       " 'GGTTTGAAGACACATCATATC',\n",
       " 'AAAAAAGCTATCGCCTCGACG',\n",
       " 'ATGCTCTATTTCTATCCTTGT']"
      ]
     },
     "execution_count": 37,
     "metadata": {},
     "output_type": "execute_result"
    }
   ],
   "source": [
    "convert_all_kmers(first[0])"
   ]
  },
  {
   "cell_type": "code",
   "execution_count": 39,
   "id": "424a35d3-536d-4115-ac9b-d7bd1eccf7cc",
   "metadata": {},
   "outputs": [
    {
     "data": {
      "text/plain": [
       "(32, 105)"
      ]
     },
     "execution_count": 39,
     "metadata": {},
     "output_type": "execute_result"
    }
   ],
   "source": [
    "kmers = np.asarray(first[0], dtype=int)\n",
    "kmers.shape"
   ]
  },
  {
   "cell_type": "code",
   "execution_count": 55,
   "id": "8de93a9d-025b-4d00-9d33-4e6a25c6a465",
   "metadata": {},
   "outputs": [],
   "source": [
    "kmers_modified = kmers.copy()\n",
    "#kmers_modified[0][1] = 1\n",
    "#kmers_modified[0][3] = 0\n",
    "#kmers_modified[0][9] = 1\n",
    "#kmers_modified[0][8] = 0\n",
    "kmers_modified[0][13] = 0\n",
    "kmers_modified[0][12] = 1\n",
    "\n",
    "#magic(kmers)"
   ]
  },
  {
   "cell_type": "code",
   "execution_count": 56,
   "id": "57a49d6c-5b6f-48e4-bb92-ffcacaeeec82",
   "metadata": {},
   "outputs": [
    {
     "data": {
      "text/plain": [
       "array([0, 0, 0, 1, 0, 0, 0, 0, 1, 0, 0, 0, 0, 1, 0, 0, 1, 0, 0, 0, 1, 0,\n",
       "       0, 0, 0, 1, 0, 0, 0, 0, 1, 0, 0, 0, 0, 0, 0, 0, 1, 0, 0, 0, 0, 1,\n",
       "       0, 0, 0, 0, 1, 0, 0, 1, 0, 0, 0, 1, 0, 0, 0, 0, 1, 0, 0, 0, 0, 1,\n",
       "       0, 0, 0, 0, 0, 0, 0, 1, 0, 0, 0, 0, 1, 0, 0, 0, 0, 1, 0, 0, 1, 0,\n",
       "       0, 0, 1, 0, 0, 0, 0, 1, 0, 0, 0, 0, 1, 0, 0, 0, 0])"
      ]
     },
     "execution_count": 56,
     "metadata": {},
     "output_type": "execute_result"
    }
   ],
   "source": [
    "kmers[0]"
   ]
  },
  {
   "cell_type": "code",
   "execution_count": 57,
   "id": "41ab9798-8915-4c05-8e95-0a2cb8ab7f16",
   "metadata": {},
   "outputs": [
    {
     "data": {
      "text/plain": [
       "0.75135255"
      ]
     },
     "execution_count": 57,
     "metadata": {},
     "output_type": "execute_result"
    }
   ],
   "source": [
    "np.sum(magic(kmers) - magic(kmers_modified))"
   ]
  },
  {
   "cell_type": "code",
   "execution_count": null,
   "id": "bfc81060-263d-488e-ade5-69045452441a",
   "metadata": {},
   "outputs": [],
   "source": []
  },
  {
   "cell_type": "code",
   "execution_count": null,
   "id": "ec41e95e-27a8-4bce-a5ad-d9e71ccf10ae",
   "metadata": {},
   "outputs": [],
   "source": []
  }
 ],
 "metadata": {
  "kernelspec": {
   "display_name": "Python 3",
   "language": "python",
   "name": "python3"
  },
  "language_info": {
   "codemirror_mode": {
    "name": "ipython",
    "version": 3
   },
   "file_extension": ".py",
   "mimetype": "text/x-python",
   "name": "python",
   "nbconvert_exporter": "python",
   "pygments_lexer": "ipython3",
   "version": "3.8.13"
  }
 },
 "nbformat": 4,
 "nbformat_minor": 5
}
