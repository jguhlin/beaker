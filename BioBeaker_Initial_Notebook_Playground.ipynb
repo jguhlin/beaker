{
  "nbformat": 4,
  "nbformat_minor": 0,
  "metadata": {
    "colab": {
      "name": "BioBeaker Initial Notebook Playground.ipynb",
      "provenance": [],
      "collapsed_sections": [],
      "authorship_tag": "ABX9TyM/lrhp0blmlTJh1Gfr1O0z",
      "include_colab_link": true
    },
    "kernelspec": {
      "name": "python3",
      "display_name": "Python 3"
    }
  },
  "cells": [
    {
      "cell_type": "markdown",
      "metadata": {
        "id": "view-in-github",
        "colab_type": "text"
      },
      "source": [
        "<a href=\"https://colab.research.google.com/github/jguhlin/beaker/blob/main/BioBeaker_Initial_Notebook_Playground.ipynb\" target=\"_parent\"><img src=\"https://colab.research.google.com/assets/colab-badge.svg\" alt=\"Open In Colab\"/></a>"
      ]
    },
    {
      "cell_type": "code",
      "metadata": {
        "colab": {
          "base_uri": "https://localhost:8080/"
        },
        "id": "CNZB9P8s5es0",
        "outputId": "8f772b30-f80d-4dbd-aeeb-70e27d9042f4"
      },
      "source": [
        "!pip install pyracular\n",
        "!pip install biobeaker"
      ],
      "execution_count": 4,
      "outputs": [
        {
          "output_type": "stream",
          "text": [
            "Requirement already satisfied: pyracular in /usr/local/lib/python3.6/dist-packages (0.1.1)\n",
            "Requirement already satisfied: biobeaker in /usr/local/lib/python3.6/dist-packages (0.0.1)\n",
            "Requirement already satisfied: baseconvert==1.0.0.a4 in /usr/local/lib/python3.6/dist-packages (from biobeaker) (1.0.0a4)\n",
            "Requirement already satisfied: numpy<2.0.0,>=1.16.0 in /usr/local/lib/python3.6/dist-packages (from biobeaker) (1.18.5)\n",
            "Requirement already satisfied: tensorflow-addons==0.11.2 in /usr/local/lib/python3.6/dist-packages (from biobeaker) (0.11.2)\n",
            "Requirement already satisfied: tensorflow==2.3.0 in /usr/local/lib/python3.6/dist-packages (from biobeaker) (2.3.0)\n",
            "Requirement already satisfied: typeguard>=2.7 in /usr/local/lib/python3.6/dist-packages (from tensorflow-addons==0.11.2->biobeaker) (2.7.1)\n",
            "Requirement already satisfied: h5py<2.11.0,>=2.10.0 in /usr/local/lib/python3.6/dist-packages (from tensorflow==2.3.0->biobeaker) (2.10.0)\n",
            "Requirement already satisfied: wrapt>=1.11.1 in /usr/local/lib/python3.6/dist-packages (from tensorflow==2.3.0->biobeaker) (1.12.1)\n",
            "Requirement already satisfied: google-pasta>=0.1.8 in /usr/local/lib/python3.6/dist-packages (from tensorflow==2.3.0->biobeaker) (0.2.0)\n",
            "Requirement already satisfied: absl-py>=0.7.0 in /usr/local/lib/python3.6/dist-packages (from tensorflow==2.3.0->biobeaker) (0.10.0)\n",
            "Requirement already satisfied: opt-einsum>=2.3.2 in /usr/local/lib/python3.6/dist-packages (from tensorflow==2.3.0->biobeaker) (3.3.0)\n",
            "Requirement already satisfied: wheel>=0.26 in /usr/local/lib/python3.6/dist-packages (from tensorflow==2.3.0->biobeaker) (0.35.1)\n",
            "Requirement already satisfied: protobuf>=3.9.2 in /usr/local/lib/python3.6/dist-packages (from tensorflow==2.3.0->biobeaker) (3.12.4)\n",
            "Requirement already satisfied: tensorflow-estimator<2.4.0,>=2.3.0 in /usr/local/lib/python3.6/dist-packages (from tensorflow==2.3.0->biobeaker) (2.3.0)\n",
            "Requirement already satisfied: six>=1.12.0 in /usr/local/lib/python3.6/dist-packages (from tensorflow==2.3.0->biobeaker) (1.15.0)\n",
            "Requirement already satisfied: keras-preprocessing<1.2,>=1.1.1 in /usr/local/lib/python3.6/dist-packages (from tensorflow==2.3.0->biobeaker) (1.1.2)\n",
            "Requirement already satisfied: tensorboard<3,>=2.3.0 in /usr/local/lib/python3.6/dist-packages (from tensorflow==2.3.0->biobeaker) (2.3.0)\n",
            "Requirement already satisfied: scipy==1.4.1 in /usr/local/lib/python3.6/dist-packages (from tensorflow==2.3.0->biobeaker) (1.4.1)\n",
            "Requirement already satisfied: grpcio>=1.8.6 in /usr/local/lib/python3.6/dist-packages (from tensorflow==2.3.0->biobeaker) (1.33.2)\n",
            "Requirement already satisfied: astunparse==1.6.3 in /usr/local/lib/python3.6/dist-packages (from tensorflow==2.3.0->biobeaker) (1.6.3)\n",
            "Requirement already satisfied: termcolor>=1.1.0 in /usr/local/lib/python3.6/dist-packages (from tensorflow==2.3.0->biobeaker) (1.1.0)\n",
            "Requirement already satisfied: gast==0.3.3 in /usr/local/lib/python3.6/dist-packages (from tensorflow==2.3.0->biobeaker) (0.3.3)\n",
            "Requirement already satisfied: setuptools in /usr/local/lib/python3.6/dist-packages (from protobuf>=3.9.2->tensorflow==2.3.0->biobeaker) (50.3.2)\n",
            "Requirement already satisfied: google-auth-oauthlib<0.5,>=0.4.1 in /usr/local/lib/python3.6/dist-packages (from tensorboard<3,>=2.3.0->tensorflow==2.3.0->biobeaker) (0.4.2)\n",
            "Requirement already satisfied: werkzeug>=0.11.15 in /usr/local/lib/python3.6/dist-packages (from tensorboard<3,>=2.3.0->tensorflow==2.3.0->biobeaker) (1.0.1)\n",
            "Requirement already satisfied: tensorboard-plugin-wit>=1.6.0 in /usr/local/lib/python3.6/dist-packages (from tensorboard<3,>=2.3.0->tensorflow==2.3.0->biobeaker) (1.7.0)\n",
            "Requirement already satisfied: requests<3,>=2.21.0 in /usr/local/lib/python3.6/dist-packages (from tensorboard<3,>=2.3.0->tensorflow==2.3.0->biobeaker) (2.23.0)\n",
            "Requirement already satisfied: google-auth<2,>=1.6.3 in /usr/local/lib/python3.6/dist-packages (from tensorboard<3,>=2.3.0->tensorflow==2.3.0->biobeaker) (1.17.2)\n",
            "Requirement already satisfied: markdown>=2.6.8 in /usr/local/lib/python3.6/dist-packages (from tensorboard<3,>=2.3.0->tensorflow==2.3.0->biobeaker) (3.3.3)\n",
            "Requirement already satisfied: requests-oauthlib>=0.7.0 in /usr/local/lib/python3.6/dist-packages (from google-auth-oauthlib<0.5,>=0.4.1->tensorboard<3,>=2.3.0->tensorflow==2.3.0->biobeaker) (1.3.0)\n",
            "Requirement already satisfied: certifi>=2017.4.17 in /usr/local/lib/python3.6/dist-packages (from requests<3,>=2.21.0->tensorboard<3,>=2.3.0->tensorflow==2.3.0->biobeaker) (2020.11.8)\n",
            "Requirement already satisfied: chardet<4,>=3.0.2 in /usr/local/lib/python3.6/dist-packages (from requests<3,>=2.21.0->tensorboard<3,>=2.3.0->tensorflow==2.3.0->biobeaker) (3.0.4)\n",
            "Requirement already satisfied: idna<3,>=2.5 in /usr/local/lib/python3.6/dist-packages (from requests<3,>=2.21.0->tensorboard<3,>=2.3.0->tensorflow==2.3.0->biobeaker) (2.10)\n",
            "Requirement already satisfied: urllib3!=1.25.0,!=1.25.1,<1.26,>=1.21.1 in /usr/local/lib/python3.6/dist-packages (from requests<3,>=2.21.0->tensorboard<3,>=2.3.0->tensorflow==2.3.0->biobeaker) (1.24.3)\n",
            "Requirement already satisfied: rsa<5,>=3.1.4; python_version >= \"3\" in /usr/local/lib/python3.6/dist-packages (from google-auth<2,>=1.6.3->tensorboard<3,>=2.3.0->tensorflow==2.3.0->biobeaker) (4.6)\n",
            "Requirement already satisfied: cachetools<5.0,>=2.0.0 in /usr/local/lib/python3.6/dist-packages (from google-auth<2,>=1.6.3->tensorboard<3,>=2.3.0->tensorflow==2.3.0->biobeaker) (4.1.1)\n",
            "Requirement already satisfied: pyasn1-modules>=0.2.1 in /usr/local/lib/python3.6/dist-packages (from google-auth<2,>=1.6.3->tensorboard<3,>=2.3.0->tensorflow==2.3.0->biobeaker) (0.2.8)\n",
            "Requirement already satisfied: importlib-metadata; python_version < \"3.8\" in /usr/local/lib/python3.6/dist-packages (from markdown>=2.6.8->tensorboard<3,>=2.3.0->tensorflow==2.3.0->biobeaker) (2.0.0)\n",
            "Requirement already satisfied: oauthlib>=3.0.0 in /usr/local/lib/python3.6/dist-packages (from requests-oauthlib>=0.7.0->google-auth-oauthlib<0.5,>=0.4.1->tensorboard<3,>=2.3.0->tensorflow==2.3.0->biobeaker) (3.1.0)\n",
            "Requirement already satisfied: pyasn1>=0.1.3 in /usr/local/lib/python3.6/dist-packages (from rsa<5,>=3.1.4; python_version >= \"3\"->google-auth<2,>=1.6.3->tensorboard<3,>=2.3.0->tensorflow==2.3.0->biobeaker) (0.4.8)\n",
            "Requirement already satisfied: zipp>=0.5 in /usr/local/lib/python3.6/dist-packages (from importlib-metadata; python_version < \"3.8\"->markdown>=2.6.8->tensorboard<3,>=2.3.0->tensorflow==2.3.0->biobeaker) (3.4.0)\n"
          ],
          "name": "stdout"
        }
      ]
    },
    {
      "cell_type": "code",
      "metadata": {
        "colab": {
          "base_uri": "https://localhost:8080/"
        },
        "id": "bWebiVnVM_XH",
        "outputId": "d849bcf8-0a85-4ab3-b577-f0c583c437c6"
      },
      "source": [
        "!wget \"https://media.githubusercontent.com/media/jguhlin/beaker/main/precomputed/beaker_medium_tripleloss.data-00000-of-00001\"\n",
        "!wget \"https://media.githubusercontent.com/media/jguhlin/beaker/main/precomputed/beaker_medium_tripleloss.index\"\n",
        "!wget \"https://media.githubusercontent.com/media/jguhlin/beaker/main/precomputed/weights_wide_singlelayer_k21_3Aug2020model_21_dims_32_epochs256.npy\"\n",
        "!wget \"https://media.githubusercontent.com/media/jguhlin/beaker/main/example/Arabidopsis_chr1.sfasta\"\n",
        "!wget \"https://media.githubusercontent.com/media/jguhlin/beaker/main/example/Arabidopsis_chr1.sfai\""
      ],
      "execution_count": 5,
      "outputs": [
        {
          "output_type": "stream",
          "text": [
            "--2020-12-02 21:40:54--  https://media.githubusercontent.com/media/jguhlin/beaker/main/precomputed/beaker_medium_tripleloss.data-00000-of-00001\n",
            "Resolving media.githubusercontent.com (media.githubusercontent.com)... 151.101.0.133, 151.101.64.133, 151.101.128.133, ...\n",
            "Connecting to media.githubusercontent.com (media.githubusercontent.com)|151.101.0.133|:443... connected.\n",
            "HTTP request sent, awaiting response... 200 OK\n",
            "Length: 71412220 (68M) [application/octet-stream]\n",
            "Saving to: ‘beaker_medium_tripleloss.data-00000-of-00001.2’\n",
            "\n",
            "beaker_medium_tripl 100%[===================>]  68.10M   203MB/s    in 0.3s    \n",
            "\n",
            "2020-12-02 21:40:57 (203 MB/s) - ‘beaker_medium_tripleloss.data-00000-of-00001.2’ saved [71412220/71412220]\n",
            "\n",
            "--2020-12-02 21:40:57--  https://media.githubusercontent.com/media/jguhlin/beaker/main/precomputed/beaker_medium_tripleloss.index\n",
            "Resolving media.githubusercontent.com (media.githubusercontent.com)... 151.101.0.133, 151.101.64.133, 151.101.128.133, ...\n",
            "Connecting to media.githubusercontent.com (media.githubusercontent.com)|151.101.0.133|:443... connected.\n",
            "HTTP request sent, awaiting response... 200 OK\n",
            "Length: 7475 (7.3K) [application/octet-stream]\n",
            "Saving to: ‘beaker_medium_tripleloss.index.2’\n",
            "\n",
            "beaker_medium_tripl 100%[===================>]   7.30K  --.-KB/s    in 0s      \n",
            "\n",
            "2020-12-02 21:40:57 (78.9 MB/s) - ‘beaker_medium_tripleloss.index.2’ saved [7475/7475]\n",
            "\n",
            "--2020-12-02 21:40:57--  https://media.githubusercontent.com/media/jguhlin/beaker/main/precomputed/weights_wide_singlelayer_k21_3Aug2020model_21_dims_32_epochs256.npy\n",
            "Resolving media.githubusercontent.com (media.githubusercontent.com)... 151.101.0.133, 151.101.64.133, 151.101.128.133, ...\n",
            "Connecting to media.githubusercontent.com (media.githubusercontent.com)|151.101.0.133|:443... connected.\n",
            "HTTP request sent, awaiting response... 200 OK\n",
            "Length: 5538195 (5.3M) [application/octet-stream]\n",
            "Saving to: ‘weights_wide_singlelayer_k21_3Aug2020model_21_dims_32_epochs256.npy.4’\n",
            "\n",
            "weights_wide_single 100%[===================>]   5.28M  --.-KB/s    in 0.08s   \n",
            "\n",
            "2020-12-02 21:40:58 (66.7 MB/s) - ‘weights_wide_singlelayer_k21_3Aug2020model_21_dims_32_epochs256.npy.4’ saved [5538195/5538195]\n",
            "\n",
            "--2020-12-02 21:40:58--  https://media.githubusercontent.com/media/jguhlin/beaker/main/example/Arabidopsis_chr1.sfasta\n",
            "Resolving media.githubusercontent.com (media.githubusercontent.com)... 151.101.0.133, 151.101.64.133, 151.101.128.133, ...\n",
            "Connecting to media.githubusercontent.com (media.githubusercontent.com)|151.101.0.133|:443... connected.\n",
            "HTTP request sent, awaiting response... 200 OK\n",
            "Length: 11120560 (11M) [application/octet-stream]\n",
            "Saving to: ‘Arabidopsis_chr1.sfasta.1’\n",
            "\n",
            "Arabidopsis_chr1.sf 100%[===================>]  10.60M  48.5MB/s    in 0.2s    \n",
            "\n",
            "2020-12-02 21:40:59 (48.5 MB/s) - ‘Arabidopsis_chr1.sfasta.1’ saved [11120560/11120560]\n",
            "\n",
            "--2020-12-02 21:40:59--  https://media.githubusercontent.com/media/jguhlin/beaker/main/example/Arabidopsis_chr1.sfai\n",
            "Resolving media.githubusercontent.com (media.githubusercontent.com)... 151.101.0.133, 151.101.64.133, 151.101.128.133, ...\n",
            "Connecting to media.githubusercontent.com (media.githubusercontent.com)|151.101.0.133|:443... connected.\n",
            "HTTP request sent, awaiting response... 200 OK\n",
            "Length: 93 [application/octet-stream]\n",
            "Saving to: ‘Arabidopsis_chr1.sfai.1’\n",
            "\n",
            "Arabidopsis_chr1.sf 100%[===================>]      93  --.-KB/s    in 0s      \n",
            "\n",
            "2020-12-02 21:40:59 (5.66 MB/s) - ‘Arabidopsis_chr1.sfai.1’ saved [93/93]\n",
            "\n"
          ],
          "name": "stdout"
        }
      ]
    },
    {
      "cell_type": "code",
      "metadata": {
        "id": "s4py61l0J9t3"
      },
      "source": [
        "import tensorflow as tf\n",
        "import os\n",
        "import tensorflow_addons as tfa\n",
        "import numpy as np\n",
        "import time\n",
        "import pyracular\n",
        "from biobeaker.utils import get_angles, positional_encoding\n",
        "from biobeaker import BEAKER\n",
        "from tensorflow.keras.layers import Dense, Embedding, Flatten, Lambda, Subtract, Input, Concatenate, AveragePooling1D, LocallyConnected1D, Conv1D, GaussianNoise, BatchNormalization, Reshape, GlobalAveragePooling1D, Dropout\n",
        "from tensorflow.keras.models import Model, Sequential\n",
        "import pandas as pd\n",
        "import umap\n",
        "import plotly.express as px"
      ],
      "execution_count": 6,
      "outputs": []
    },
    {
      "cell_type": "code",
      "metadata": {
        "id": "Dk_6awTvLEai"
      },
      "source": [
        "# Hyper parameters\n",
        "k = 21\n",
        "window_size = 7  # up to 511\n",
        "num_layers = 8\n",
        "embedding_dims = 32\n",
        "output_dims = 128 # Output dims are also internal dims!\n",
        "intermediate_dims = 256\n",
        "num_heads = 8\n",
        "dropout_rate = 0.15\n",
        "max_positions = 512\n",
        "batch_size = 128"
      ],
      "execution_count": 7,
      "outputs": []
    },
    {
      "cell_type": "code",
      "metadata": {
        "id": "vUo-qTJnLJB8"
      },
      "source": [
        "transformer = BEAKER(num_layers, embedding_dims, output_dims, num_heads, intermediate_dims, max_positions,\n",
        "                          dropout=dropout_rate, attention_dropout=dropout_rate, activation=tfa.activations.mish)\n",
        "\n",
        "magic = Dense(embedding_dims, \n",
        "                activation=tf.nn.swish, \n",
        "                name=\"Magic\", \n",
        "                use_bias=False, \n",
        "                trainable=False,\n",
        "                dtype=tf.float32)\n",
        "\n",
        "magic.build((window_size+1,k*5))\n",
        "\n",
        "#Load up the weights\n",
        "weights = np.load(\"weights_wide_singlelayer_k21_3Aug2020model_21_dims_32_epochs256.npy\", allow_pickle=True)\n",
        "magic.set_weights([weights[0][0]])\n",
        "\n",
        "transformer.load_weights(\"beaker_medium_tripleloss\")\n",
        "\n",
        "cls = np.asarray([[1] * 105])"
      ],
      "execution_count": 8,
      "outputs": []
    },
    {
      "cell_type": "code",
      "metadata": {
        "id": "rGcS3Cj5OzV5"
      },
      "source": [
        "# The library itself can support FASTA files, but the generators are all designed to work with SFASTA files\n",
        "# Google Colab is unable to convert the file here... not sure why.\n",
        "# pyracular.convert_fasta_to_sfasta(\"Arabidopsis_thaliana.TAIR10.dna.chromosome.1.fa.gz\", \"Arabidopsis_chr1.sfasta\")"
      ],
      "execution_count": 9,
      "outputs": []
    },
    {
      "cell_type": "code",
      "metadata": {
        "id": "LhjLzg4_NbMN"
      },
      "source": [
        "kmerwindowsgen = pyracular.FastaKmersGenerator(k, \"Arabidopsis_chr1.sfasta\", window_size, False, False)\n",
        "first = next(kmerwindowsgen)"
      ],
      "execution_count": 28,
      "outputs": []
    },
    {
      "cell_type": "code",
      "metadata": {
        "colab": {
          "base_uri": "https://localhost:8080/"
        },
        "id": "_UDEcoYqTbyG",
        "outputId": "ccf49c37-a7f9-4c7c-d61d-a13ab8d21835"
      },
      "source": [
        "# A kmer is stored as a series of True and False (takes up the least amount of memory!) but essentially 1's and 0's\n",
        "# A nucleotide is stored as a vector of length 5, one-hot encoded with the 1 corresponding to the nucleotide itself\n",
        "# So \"A\" is stored as [1 0 0 0 0]\n",
        "# A Kmer is concatenated nucleotides, so a k=21 will be 105 (k*5)\n",
        "first[0][0][0:10] # First 2 kmers"
      ],
      "execution_count": 11,
      "outputs": [
        {
          "output_type": "execute_result",
          "data": {
            "text/plain": [
              "[False, False, False, True, False, False, False, False, True, False]"
            ]
          },
          "metadata": {
            "tags": []
          },
          "execution_count": 11
        }
      ]
    },
    {
      "cell_type": "code",
      "metadata": {
        "colab": {
          "base_uri": "https://localhost:8080/"
        },
        "id": "ThTvTqQRTdYK",
        "outputId": "05347e23-cd3f-44f6-fd6d-d9dd1fe5386a"
      },
      "source": [
        "# This is easier seen as numpy encoded as 0 and 1's, which is how tensorflow views it\n",
        "np.asarray(first[0][0][0:10], dtype=np.int)"
      ],
      "execution_count": 12,
      "outputs": [
        {
          "output_type": "execute_result",
          "data": {
            "text/plain": [
              "array([0, 0, 0, 1, 0, 0, 0, 0, 1, 0])"
            ]
          },
          "metadata": {
            "tags": []
          },
          "execution_count": 12
        }
      ]
    },
    {
      "cell_type": "code",
      "metadata": {
        "id": "Jvqi64NCVrIG"
      },
      "source": [
        "# With a few functions, we can convert back to string representation\n",
        "def convert_all_kmers(kmers):\n",
        "    kmers_as_str = list()\n",
        "    for x in kmers:\n",
        "        y = \"\".join(list(map(convert_letter_to_string, np.array_split(x, k))))\n",
        "        kmers_as_str.append(y)\n",
        "    return kmers_as_str\n",
        "\n",
        "def convert_letter_to_string(x):\n",
        "    y = np.nonzero(x)[0][0]\n",
        "    if y == 0:\n",
        "        return \"A\"\n",
        "    elif y == 1:\n",
        "        return \"T\"\n",
        "    elif y == 2:\n",
        "        return \"N\"\n",
        "    elif y == 3:\n",
        "        return \"C\"\n",
        "    elif y == 4:\n",
        "        return \"G\""
      ],
      "execution_count": 13,
      "outputs": []
    },
    {
      "cell_type": "code",
      "metadata": {
        "colab": {
          "base_uri": "https://localhost:8080/"
        },
        "id": "Gexmfm0aXqRx",
        "outputId": "785b0748-ddd1-4f09-e783-8387c1544507"
      },
      "source": [
        "# Bam\n",
        "convert_all_kmers(first[0])"
      ],
      "execution_count": 14,
      "outputs": [
        {
          "output_type": "execute_result",
          "data": {
            "text/plain": [
              "['CCCTAAACCCTAAACCCTAAA',\n",
              " 'CCCTAAACCTCTGAATCCTTA',\n",
              " 'ATCCCTAAATCCCTAAATCTT',\n",
              " 'TAAATCCTACATCCATGAATC',\n",
              " 'CCTAAATACCTAATTCCCTAA',\n",
              " 'ACCCGAAACCGGTTTCTCTGG',\n",
              " 'TTGAAAATCATTGTGTATATA']"
            ]
          },
          "metadata": {
            "tags": []
          },
          "execution_count": 14
        }
      ]
    },
    {
      "cell_type": "code",
      "metadata": {
        "colab": {
          "base_uri": "https://localhost:8080/"
        },
        "id": "5UXZrlnYX0-V",
        "outputId": "0b5e06e6-010d-4dfb-f3e5-468c0d8ae7f4"
      },
      "source": [
        "# We also have the FASTA header info\n",
        "# Here 1 means chromosome 1 (same as the FASTA header for this particular file)\n",
        "# If this is from the reverse complement strand\n",
        "# And the positions of each of the kmers\n",
        "[first[2], first[3], first[1]]"
      ],
      "execution_count": 15,
      "outputs": [
        {
          "output_type": "execute_result",
          "data": {
            "text/plain": [
              "['1',\n",
              " False,\n",
              " [(0, 20), (21, 41), (42, 62), (63, 83), (84, 104), (105, 125), (126, 146)]]"
            ]
          },
          "metadata": {
            "tags": []
          },
          "execution_count": 15
        }
      ]
    },
    {
      "cell_type": "code",
      "metadata": {
        "id": "5FnAGhdjaQ9-"
      },
      "source": [
        "# For some applications we use a CLS token\n",
        "# It's encoded as all 1's\n",
        "cls = np.asarray([[1] * 105])"
      ],
      "execution_count": 16,
      "outputs": []
    },
    {
      "cell_type": "code",
      "metadata": {
        "id": "u6vkbR2YX10v"
      },
      "source": [
        "# We can run along the windows of the chromosome...\n",
        "# This takes awhile, especially since we aren't using TPU/GPU here...\n",
        "ids = list()\n",
        "results = list()\n",
        "for _x in range(10): # Do 100 batches\n",
        "    batch = list()\n",
        "    for _i in range(10): # Of 256 windows each (So 100 * 256 * window_size * k nucleotides)\n",
        "        x = next(kmerwindowsgen)\n",
        "        kmers = np.concatenate([cls, x[0]])\n",
        "        batch.append(kmers)\n",
        "        ids.append(x[1][0][0])\n",
        "    batch = np.asarray(batch)\n",
        "    enc_outputs, _, _ = transformer(magic(batch), False)\n",
        "    results.append(enc_outputs[:, 0, :])\n",
        "\n",
        "# Tensorflow Addons will give a warning, but it's safely ignored..."
      ],
      "execution_count": 29,
      "outputs": []
    },
    {
      "cell_type": "code",
      "metadata": {
        "colab": {
          "base_uri": "https://localhost:8080/"
        },
        "id": "VH8UMUFQcfYE",
        "outputId": "ed179911-0ee9-4d7a-fcf8-9ea03c9dfa25"
      },
      "source": [
        "results_concat = np.concatenate(results)\n",
        "results_concat.shape"
      ],
      "execution_count": 30,
      "outputs": [
        {
          "output_type": "execute_result",
          "data": {
            "text/plain": [
              "(100, 256)"
            ]
          },
          "metadata": {
            "tags": []
          },
          "execution_count": 30
        }
      ]
    },
    {
      "cell_type": "code",
      "metadata": {
        "colab": {
          "base_uri": "https://localhost:8080/"
        },
        "id": "Y0MCSC5DacXz",
        "outputId": "370e8dbb-4ccd-4abd-9dae-4aa9ae9e20e1"
      },
      "source": [
        "reducer = umap.UMAP()\n",
        "embedding = reducer.fit_transform(results_concat)\n",
        "embedding.shape"
      ],
      "execution_count": 31,
      "outputs": [
        {
          "output_type": "execute_result",
          "data": {
            "text/plain": [
              "(100, 2)"
            ]
          },
          "metadata": {
            "tags": []
          },
          "execution_count": 31
        }
      ]
    },
    {
      "cell_type": "code",
      "metadata": {
        "id": "hQjI1snNcck3"
      },
      "source": [
        "df = pd.DataFrame(data={\"x\": embedding[:, 0], \"y\":embedding[:, 1], \"id\":ids})"
      ],
      "execution_count": 32,
      "outputs": []
    },
    {
      "cell_type": "code",
      "metadata": {
        "colab": {
          "base_uri": "https://localhost:8080/",
          "height": 542
        },
        "id": "G8Q_EvQlch27",
        "outputId": "d6d198c5-2fb4-4517-afa8-63a5ebea36d1"
      },
      "source": [
        "fig = px.scatter(df, x=\"x\", y=\"y\", hover_name=\"id\", color=\"id\")\n",
        "fig.update_traces(marker=dict(size=4))\n",
        "fig.show()"
      ],
      "execution_count": 33,
      "outputs": [
        {
          "output_type": "display_data",
          "data": {
            "text/html": [
              "<html>\n",
              "<head><meta charset=\"utf-8\" /></head>\n",
              "<body>\n",
              "    <div>\n",
              "            <script src=\"https://cdnjs.cloudflare.com/ajax/libs/mathjax/2.7.5/MathJax.js?config=TeX-AMS-MML_SVG\"></script><script type=\"text/javascript\">if (window.MathJax) {MathJax.Hub.Config({SVG: {font: \"STIX-Web\"}});}</script>\n",
              "                <script type=\"text/javascript\">window.PlotlyConfig = {MathJaxConfig: 'local'};</script>\n",
              "        <script src=\"https://cdn.plot.ly/plotly-latest.min.js\"></script>    \n",
              "            <div id=\"e8ead82e-1b5f-482a-b373-79fc2b202536\" class=\"plotly-graph-div\" style=\"height:525px; width:100%;\"></div>\n",
              "            <script type=\"text/javascript\">\n",
              "                \n",
              "                    window.PLOTLYENV=window.PLOTLYENV || {};\n",
              "                    \n",
              "                if (document.getElementById(\"e8ead82e-1b5f-482a-b373-79fc2b202536\")) {\n",
              "                    Plotly.newPlot(\n",
              "                        'e8ead82e-1b5f-482a-b373-79fc2b202536',\n",
              "                        [{\"hoverlabel\": {\"namelength\": 0}, \"hovertemplate\": \"<b>%{hovertext}</b><br><br>x=%{x}<br>y=%{y}<br>id=%{marker.color}\", \"hovertext\": [147.0, 294.0, 441.0, 588.0, 735.0, 882.0, 1029.0, 1176.0, 1323.0, 1470.0, 1617.0, 1764.0, 1911.0, 2058.0, 2205.0, 2352.0, 2499.0, 2646.0, 2793.0, 2940.0, 3087.0, 3234.0, 3381.0, 3528.0, 3675.0, 3822.0, 3969.0, 4116.0, 4263.0, 4410.0, 4557.0, 4704.0, 4851.0, 4998.0, 5145.0, 5292.0, 5439.0, 5586.0, 5733.0, 5880.0, 6027.0, 6174.0, 6321.0, 6468.0, 6615.0, 6762.0, 6909.0, 7056.0, 7203.0, 7350.0, 7497.0, 7644.0, 7791.0, 7938.0, 8085.0, 8232.0, 8379.0, 8526.0, 8673.0, 8820.0, 8967.0, 9114.0, 9261.0, 9408.0, 9555.0, 9702.0, 9849.0, 9996.0, 10143.0, 10290.0, 10437.0, 10584.0, 10731.0, 10878.0, 11025.0, 11172.0, 11319.0, 11466.0, 11613.0, 11760.0, 11907.0, 12054.0, 12201.0, 12348.0, 12495.0, 12642.0, 12789.0, 12936.0, 13083.0, 13230.0, 13377.0, 13524.0, 13671.0, 13818.0, 13965.0, 14112.0, 14259.0, 14406.0, 14553.0, 14700.0], \"legendgroup\": \"\", \"marker\": {\"color\": [147, 294, 441, 588, 735, 882, 1029, 1176, 1323, 1470, 1617, 1764, 1911, 2058, 2205, 2352, 2499, 2646, 2793, 2940, 3087, 3234, 3381, 3528, 3675, 3822, 3969, 4116, 4263, 4410, 4557, 4704, 4851, 4998, 5145, 5292, 5439, 5586, 5733, 5880, 6027, 6174, 6321, 6468, 6615, 6762, 6909, 7056, 7203, 7350, 7497, 7644, 7791, 7938, 8085, 8232, 8379, 8526, 8673, 8820, 8967, 9114, 9261, 9408, 9555, 9702, 9849, 9996, 10143, 10290, 10437, 10584, 10731, 10878, 11025, 11172, 11319, 11466, 11613, 11760, 11907, 12054, 12201, 12348, 12495, 12642, 12789, 12936, 13083, 13230, 13377, 13524, 13671, 13818, 13965, 14112, 14259, 14406, 14553, 14700], \"coloraxis\": \"coloraxis\", \"size\": 4, \"symbol\": \"circle\"}, \"mode\": \"markers\", \"name\": \"\", \"showlegend\": false, \"type\": \"scatter\", \"x\": [3.5646474361419678, 5.205212116241455, 3.310906171798706, 3.0769083499908447, 4.889261722564697, 3.5509912967681885, 3.964035987854004, 4.1947784423828125, 5.978414535522461, 5.610649585723877, 3.326725959777832, 6.338879108428955, 2.7112483978271484, 3.959388256072998, 3.3500382900238037, 3.551551342010498, 5.998055934906006, 4.435225009918213, 2.577946901321411, 5.207529067993164, 3.8303089141845703, 2.9389233589172363, 4.923001766204834, 5.347927093505859, 2.522223472595215, 2.8479437828063965, 2.059238910675049, 4.0675153732299805, 3.920119285583496, 3.3895905017852783, 5.178101062774658, 5.604288101196289, 6.121406078338623, 4.328147888183594, 4.381351470947266, 4.782125949859619, 6.209425926208496, 3.7110307216644287, 4.930942058563232, 5.639779090881348, 3.6152713298797607, 5.856602191925049, 4.563812255859375, 5.759828090667725, 2.22472882270813, 6.169598579406738, 2.2367167472839355, 3.488969326019287, 3.6083638668060303, 3.5598037242889404, 5.480140686035156, 2.7181854248046875, 4.724196910858154, 5.069760322570801, 5.74212121963501, 2.8276734352111816, 3.8051538467407227, 2.6412322521209717, 4.7370686531066895, 2.417158842086792, 4.702407360076904, 4.640714168548584, 3.231273889541626, 5.434630870819092, 3.731902837753296, 4.327929496765137, 5.393918514251709, 3.2121012210845947, 5.06976318359375, 2.508897542953491, 4.128148078918457, 5.103189945220947, 3.3219637870788574, 5.54339599609375, 4.491127967834473, 4.770385265350342, 5.083996772766113, 6.103509902954102, 4.878992080688477, 4.204168319702148, 3.863020896911621, 2.3740015029907227, 5.255484104156494, 3.6417081356048584, 4.960285663604736, 5.350885391235352, 4.612760066986084, 3.618954658508301, 4.331072807312012, 5.262819290161133, 3.3291990756988525, 4.941750526428223, 3.055147409439087, 4.287879467010498, 4.819822311401367, 4.979096412658691, 2.358781576156616, 5.0099005699157715, 5.6214423179626465, 5.587869644165039], \"xaxis\": \"x\", \"y\": [0.10900469124317169, 1.0397369861602783, 0.4535622298717499, 0.6625521779060364, 0.9654665589332581, 2.375854015350342, 1.3088712692260742, 1.9293732643127441, 4.862602233886719, 1.3390604257583618, 3.0448415279388428, 4.7384185791015625, 1.9789884090423584, 1.69622802734375, 3.349153757095337, 1.3205615282058716, 3.675143003463745, 1.7403323650360107, 2.784543514251709, 3.390200138092041, 1.0110031366348267, 2.5571742057800293, 3.121866226196289, 3.702256202697754, 3.1641392707824707, 3.645660161972046, 1.329188585281372, 4.3425188064575195, 2.1483590602874756, 1.7033779621124268, 0.6162351369857788, 4.867353439331055, 5.249463081359863, 1.6841299533843994, 4.47750997543335, 5.249885082244873, 5.069464683532715, 0.47163692116737366, 3.961282253265381, 5.217267990112305, 4.63770866394043, 4.820045471191406, 2.446824073791504, 1.2117167711257935, 1.1567224264144897, 3.770517110824585, 1.5670777559280396, 4.304316520690918, 2.937845468521118, 3.708869218826294, 5.379236221313477, 2.266002655029297, 4.917603492736816, 5.374573707580566, 4.2552170753479, 3.8745720386505127, 2.722696542739868, 1.3247324228286743, 0.6055110692977905, 2.388801336288452, 1.2650830745697021, 3.415773391723633, 2.86895489692688, 2.295010805130005, 1.5612854957580566, 1.5195122957229614, 3.143944025039673, 0.5070513486862183, 2.9678635597229004, 0.853573739528656, 3.3973443508148193, 4.870356559753418, 1.4663349390029907, 4.240870952606201, 3.522327184677124, 5.055474758148193, 4.229497909545898, 4.055421829223633, 4.070890426635742, 3.82184100151062, 3.860844373703003, 0.9682691097259521, 0.5194330215454102, 2.87792706489563, 0.3827396631240845, 0.7641555070877075, 0.2739332318305969, 0.24427656829357147, 4.095754146575928, 5.622346878051758, 3.694537401199341, 5.549384117126465, 1.845818281173706, 0.7726259231567383, 2.3673148155212402, 2.6432502269744873, 1.3980425596237183, 2.219022274017334, 3.799877405166626, 4.335788249969482], \"yaxis\": \"y\"}],\n",
              "                        {\"coloraxis\": {\"colorbar\": {\"title\": {\"text\": \"id\"}}, \"colorscale\": [[0.0, \"#0d0887\"], [0.1111111111111111, \"#46039f\"], [0.2222222222222222, \"#7201a8\"], [0.3333333333333333, \"#9c179e\"], [0.4444444444444444, \"#bd3786\"], [0.5555555555555556, \"#d8576b\"], [0.6666666666666666, \"#ed7953\"], [0.7777777777777778, \"#fb9f3a\"], [0.8888888888888888, \"#fdca26\"], [1.0, \"#f0f921\"]]}, \"legend\": {\"tracegroupgap\": 0}, \"margin\": {\"t\": 60}, \"template\": {\"data\": {\"bar\": [{\"error_x\": {\"color\": \"#2a3f5f\"}, \"error_y\": {\"color\": \"#2a3f5f\"}, \"marker\": {\"line\": {\"color\": \"#E5ECF6\", \"width\": 0.5}}, \"type\": \"bar\"}], \"barpolar\": [{\"marker\": {\"line\": {\"color\": \"#E5ECF6\", \"width\": 0.5}}, \"type\": \"barpolar\"}], \"carpet\": [{\"aaxis\": {\"endlinecolor\": \"#2a3f5f\", \"gridcolor\": \"white\", \"linecolor\": \"white\", \"minorgridcolor\": \"white\", \"startlinecolor\": \"#2a3f5f\"}, \"baxis\": {\"endlinecolor\": \"#2a3f5f\", \"gridcolor\": \"white\", \"linecolor\": \"white\", \"minorgridcolor\": \"white\", \"startlinecolor\": \"#2a3f5f\"}, \"type\": \"carpet\"}], \"choropleth\": [{\"colorbar\": {\"outlinewidth\": 0, \"ticks\": \"\"}, \"type\": \"choropleth\"}], \"contour\": [{\"colorbar\": {\"outlinewidth\": 0, \"ticks\": \"\"}, \"colorscale\": [[0.0, \"#0d0887\"], [0.1111111111111111, \"#46039f\"], [0.2222222222222222, \"#7201a8\"], [0.3333333333333333, \"#9c179e\"], [0.4444444444444444, \"#bd3786\"], [0.5555555555555556, \"#d8576b\"], [0.6666666666666666, \"#ed7953\"], [0.7777777777777778, \"#fb9f3a\"], [0.8888888888888888, \"#fdca26\"], [1.0, \"#f0f921\"]], \"type\": \"contour\"}], \"contourcarpet\": [{\"colorbar\": {\"outlinewidth\": 0, \"ticks\": \"\"}, \"type\": \"contourcarpet\"}], \"heatmap\": [{\"colorbar\": {\"outlinewidth\": 0, \"ticks\": \"\"}, \"colorscale\": [[0.0, \"#0d0887\"], [0.1111111111111111, \"#46039f\"], [0.2222222222222222, \"#7201a8\"], [0.3333333333333333, \"#9c179e\"], [0.4444444444444444, \"#bd3786\"], [0.5555555555555556, \"#d8576b\"], [0.6666666666666666, \"#ed7953\"], [0.7777777777777778, \"#fb9f3a\"], [0.8888888888888888, \"#fdca26\"], [1.0, \"#f0f921\"]], \"type\": \"heatmap\"}], \"heatmapgl\": [{\"colorbar\": {\"outlinewidth\": 0, \"ticks\": \"\"}, \"colorscale\": [[0.0, \"#0d0887\"], [0.1111111111111111, \"#46039f\"], [0.2222222222222222, \"#7201a8\"], [0.3333333333333333, \"#9c179e\"], [0.4444444444444444, \"#bd3786\"], [0.5555555555555556, \"#d8576b\"], [0.6666666666666666, \"#ed7953\"], [0.7777777777777778, \"#fb9f3a\"], [0.8888888888888888, \"#fdca26\"], [1.0, \"#f0f921\"]], \"type\": \"heatmapgl\"}], \"histogram\": [{\"marker\": {\"colorbar\": {\"outlinewidth\": 0, \"ticks\": \"\"}}, \"type\": \"histogram\"}], \"histogram2d\": [{\"colorbar\": {\"outlinewidth\": 0, \"ticks\": \"\"}, \"colorscale\": [[0.0, \"#0d0887\"], [0.1111111111111111, \"#46039f\"], [0.2222222222222222, \"#7201a8\"], [0.3333333333333333, \"#9c179e\"], [0.4444444444444444, \"#bd3786\"], [0.5555555555555556, \"#d8576b\"], [0.6666666666666666, \"#ed7953\"], [0.7777777777777778, \"#fb9f3a\"], [0.8888888888888888, \"#fdca26\"], [1.0, \"#f0f921\"]], \"type\": \"histogram2d\"}], \"histogram2dcontour\": [{\"colorbar\": {\"outlinewidth\": 0, \"ticks\": \"\"}, \"colorscale\": [[0.0, \"#0d0887\"], [0.1111111111111111, \"#46039f\"], [0.2222222222222222, \"#7201a8\"], [0.3333333333333333, \"#9c179e\"], [0.4444444444444444, \"#bd3786\"], [0.5555555555555556, \"#d8576b\"], [0.6666666666666666, \"#ed7953\"], [0.7777777777777778, \"#fb9f3a\"], [0.8888888888888888, \"#fdca26\"], [1.0, \"#f0f921\"]], \"type\": \"histogram2dcontour\"}], \"mesh3d\": [{\"colorbar\": {\"outlinewidth\": 0, \"ticks\": \"\"}, \"type\": \"mesh3d\"}], \"parcoords\": [{\"line\": {\"colorbar\": {\"outlinewidth\": 0, \"ticks\": \"\"}}, \"type\": \"parcoords\"}], \"pie\": [{\"automargin\": true, \"type\": \"pie\"}], \"scatter\": [{\"marker\": {\"colorbar\": {\"outlinewidth\": 0, \"ticks\": \"\"}}, \"type\": \"scatter\"}], \"scatter3d\": [{\"line\": {\"colorbar\": {\"outlinewidth\": 0, \"ticks\": \"\"}}, \"marker\": {\"colorbar\": {\"outlinewidth\": 0, \"ticks\": \"\"}}, \"type\": \"scatter3d\"}], \"scattercarpet\": [{\"marker\": {\"colorbar\": {\"outlinewidth\": 0, \"ticks\": \"\"}}, \"type\": \"scattercarpet\"}], \"scattergeo\": [{\"marker\": {\"colorbar\": {\"outlinewidth\": 0, \"ticks\": \"\"}}, \"type\": \"scattergeo\"}], \"scattergl\": [{\"marker\": {\"colorbar\": {\"outlinewidth\": 0, \"ticks\": \"\"}}, \"type\": \"scattergl\"}], \"scattermapbox\": [{\"marker\": {\"colorbar\": {\"outlinewidth\": 0, \"ticks\": \"\"}}, \"type\": \"scattermapbox\"}], \"scatterpolar\": [{\"marker\": {\"colorbar\": {\"outlinewidth\": 0, \"ticks\": \"\"}}, \"type\": \"scatterpolar\"}], \"scatterpolargl\": [{\"marker\": {\"colorbar\": {\"outlinewidth\": 0, \"ticks\": \"\"}}, \"type\": \"scatterpolargl\"}], \"scatterternary\": [{\"marker\": {\"colorbar\": {\"outlinewidth\": 0, \"ticks\": \"\"}}, \"type\": \"scatterternary\"}], \"surface\": [{\"colorbar\": {\"outlinewidth\": 0, \"ticks\": \"\"}, \"colorscale\": [[0.0, \"#0d0887\"], [0.1111111111111111, \"#46039f\"], [0.2222222222222222, \"#7201a8\"], [0.3333333333333333, \"#9c179e\"], [0.4444444444444444, \"#bd3786\"], [0.5555555555555556, \"#d8576b\"], [0.6666666666666666, \"#ed7953\"], [0.7777777777777778, \"#fb9f3a\"], [0.8888888888888888, \"#fdca26\"], [1.0, \"#f0f921\"]], \"type\": \"surface\"}], \"table\": [{\"cells\": {\"fill\": {\"color\": \"#EBF0F8\"}, \"line\": {\"color\": \"white\"}}, \"header\": {\"fill\": {\"color\": \"#C8D4E3\"}, \"line\": {\"color\": \"white\"}}, \"type\": \"table\"}]}, \"layout\": {\"annotationdefaults\": {\"arrowcolor\": \"#2a3f5f\", \"arrowhead\": 0, \"arrowwidth\": 1}, \"coloraxis\": {\"colorbar\": {\"outlinewidth\": 0, \"ticks\": \"\"}}, \"colorscale\": {\"diverging\": [[0, \"#8e0152\"], [0.1, \"#c51b7d\"], [0.2, \"#de77ae\"], [0.3, \"#f1b6da\"], [0.4, \"#fde0ef\"], [0.5, \"#f7f7f7\"], [0.6, \"#e6f5d0\"], [0.7, \"#b8e186\"], [0.8, \"#7fbc41\"], [0.9, \"#4d9221\"], [1, \"#276419\"]], \"sequential\": [[0.0, \"#0d0887\"], [0.1111111111111111, \"#46039f\"], [0.2222222222222222, \"#7201a8\"], [0.3333333333333333, \"#9c179e\"], [0.4444444444444444, \"#bd3786\"], [0.5555555555555556, \"#d8576b\"], [0.6666666666666666, \"#ed7953\"], [0.7777777777777778, \"#fb9f3a\"], [0.8888888888888888, \"#fdca26\"], [1.0, \"#f0f921\"]], \"sequentialminus\": [[0.0, \"#0d0887\"], [0.1111111111111111, \"#46039f\"], [0.2222222222222222, \"#7201a8\"], [0.3333333333333333, \"#9c179e\"], [0.4444444444444444, \"#bd3786\"], [0.5555555555555556, \"#d8576b\"], [0.6666666666666666, \"#ed7953\"], [0.7777777777777778, \"#fb9f3a\"], [0.8888888888888888, \"#fdca26\"], [1.0, \"#f0f921\"]]}, \"colorway\": [\"#636efa\", \"#EF553B\", \"#00cc96\", \"#ab63fa\", \"#FFA15A\", \"#19d3f3\", \"#FF6692\", \"#B6E880\", \"#FF97FF\", \"#FECB52\"], \"font\": {\"color\": \"#2a3f5f\"}, \"geo\": {\"bgcolor\": \"white\", \"lakecolor\": \"white\", \"landcolor\": \"#E5ECF6\", \"showlakes\": true, \"showland\": true, \"subunitcolor\": \"white\"}, \"hoverlabel\": {\"align\": \"left\"}, \"hovermode\": \"closest\", \"mapbox\": {\"style\": \"light\"}, \"paper_bgcolor\": \"white\", \"plot_bgcolor\": \"#E5ECF6\", \"polar\": {\"angularaxis\": {\"gridcolor\": \"white\", \"linecolor\": \"white\", \"ticks\": \"\"}, \"bgcolor\": \"#E5ECF6\", \"radialaxis\": {\"gridcolor\": \"white\", \"linecolor\": \"white\", \"ticks\": \"\"}}, \"scene\": {\"xaxis\": {\"backgroundcolor\": \"#E5ECF6\", \"gridcolor\": \"white\", \"gridwidth\": 2, \"linecolor\": \"white\", \"showbackground\": true, \"ticks\": \"\", \"zerolinecolor\": \"white\"}, \"yaxis\": {\"backgroundcolor\": \"#E5ECF6\", \"gridcolor\": \"white\", \"gridwidth\": 2, \"linecolor\": \"white\", \"showbackground\": true, \"ticks\": \"\", \"zerolinecolor\": \"white\"}, \"zaxis\": {\"backgroundcolor\": \"#E5ECF6\", \"gridcolor\": \"white\", \"gridwidth\": 2, \"linecolor\": \"white\", \"showbackground\": true, \"ticks\": \"\", \"zerolinecolor\": \"white\"}}, \"shapedefaults\": {\"line\": {\"color\": \"#2a3f5f\"}}, \"ternary\": {\"aaxis\": {\"gridcolor\": \"white\", \"linecolor\": \"white\", \"ticks\": \"\"}, \"baxis\": {\"gridcolor\": \"white\", \"linecolor\": \"white\", \"ticks\": \"\"}, \"bgcolor\": \"#E5ECF6\", \"caxis\": {\"gridcolor\": \"white\", \"linecolor\": \"white\", \"ticks\": \"\"}}, \"title\": {\"x\": 0.05}, \"xaxis\": {\"automargin\": true, \"gridcolor\": \"white\", \"linecolor\": \"white\", \"ticks\": \"\", \"title\": {\"standoff\": 15}, \"zerolinecolor\": \"white\", \"zerolinewidth\": 2}, \"yaxis\": {\"automargin\": true, \"gridcolor\": \"white\", \"linecolor\": \"white\", \"ticks\": \"\", \"title\": {\"standoff\": 15}, \"zerolinecolor\": \"white\", \"zerolinewidth\": 2}}}, \"xaxis\": {\"anchor\": \"y\", \"domain\": [0.0, 1.0], \"title\": {\"text\": \"x\"}}, \"yaxis\": {\"anchor\": \"x\", \"domain\": [0.0, 1.0], \"title\": {\"text\": \"y\"}}},\n",
              "                        {\"responsive\": true}\n",
              "                    ).then(function(){\n",
              "                            \n",
              "var gd = document.getElementById('e8ead82e-1b5f-482a-b373-79fc2b202536');\n",
              "var x = new MutationObserver(function (mutations, observer) {{\n",
              "        var display = window.getComputedStyle(gd).display;\n",
              "        if (!display || display === 'none') {{\n",
              "            console.log([gd, 'removed!']);\n",
              "            Plotly.purge(gd);\n",
              "            observer.disconnect();\n",
              "        }}\n",
              "}});\n",
              "\n",
              "// Listen for the removal of the full notebook cells\n",
              "var notebookContainer = gd.closest('#notebook-container');\n",
              "if (notebookContainer) {{\n",
              "    x.observe(notebookContainer, {childList: true});\n",
              "}}\n",
              "\n",
              "// Listen for the clearing of the current output cell\n",
              "var outputEl = gd.closest('.output');\n",
              "if (outputEl) {{\n",
              "    x.observe(outputEl, {childList: true});\n",
              "}}\n",
              "\n",
              "                        })\n",
              "                };\n",
              "                \n",
              "            </script>\n",
              "        </div>\n",
              "</body>\n",
              "</html>"
            ]
          },
          "metadata": {
            "tags": []
          }
        }
      ]
    },
    {
      "cell_type": "code",
      "metadata": {
        "id": "sphT5j4Mcitf"
      },
      "source": [
        ""
      ],
      "execution_count": null,
      "outputs": []
    }
  ]
}